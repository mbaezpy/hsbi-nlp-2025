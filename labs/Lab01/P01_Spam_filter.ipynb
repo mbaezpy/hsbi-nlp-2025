{
 "cells": [
  {
   "cell_type": "markdown",
   "id": "c023d1f5",
   "metadata": {},
   "source": [
    "# Praktikum 1: Rule‑Based Spam Filter — Baseline\n",
    "\n",
    "**Learning goals for this notebook**\n",
    "1. Load a small email dataset.\n",
    "2. Implement a rule-based spam filter.\n",
    "3. Compute baseline metrics (accuracy & confusion matrix).\n",
    "4. Introduce a text-processing pipeline\n",
    "5. Reflect on performance and weakneses "
   ]
  },
  {
   "cell_type": "markdown",
   "id": "767d1cfa",
   "metadata": {},
   "source": [
    "## Loading libraries\n",
    "In the repository, you will find the scripts to install the dependencies required for this lab under the `/scripts` folder. \n",
    "- If you are in a YourAI cluster node, make sure to run the `install_env.sh` script to download additional dependencies. \n",
    "- If you are in `google collabs`, open the terminal and load the commands in the `install_google_collabs.sh`."
   ]
  },
  {
   "cell_type": "code",
   "execution_count": 29,
   "id": "bb38106a",
   "metadata": {},
   "outputs": [],
   "source": [
    "import pandas as pd\n",
    "import matplotlib.pyplot as plt \n",
    "from sklearn.metrics import confusion_matrix, classification_report, accuracy_score, ConfusionMatrixDisplay\n",
    "from datasets import load_dataset, load_from_disk"
   ]
  },
  {
   "cell_type": "markdown",
   "id": "6b882e97",
   "metadata": {},
   "source": [
    "## Task 1. Loading and exploring data\n",
    "**Goal**: explore the SMS spam dataset and report basic dataset facts. \n",
    "\n",
    "**Deliverable**: Keep the code cells to perform the following operations:\n",
    "\n",
    "1. Obtain the number of examples (rows) in the chosen split ('train').  \n",
    "3. Get information about class distribution: counts for each label value (e.g., spam vs ham).  \n",
    "4. Show 5 representative examples (text + label) from the dataset.\n",
    "5. Remove duplicates, and keep the dataframe to only the spam and english sms message."
   ]
  },
  {
   "cell_type": "code",
   "execution_count": 31,
   "id": "65023548-1f64-4650-bfa0-4240d85bfbb2",
   "metadata": {},
   "outputs": [],
   "source": [
    "ds = load_dataset(\"dbarbedillo/SMS_Spam_Multilingual_Collection_Dataset\")\n",
    "df =  ds[\"train\"].to_pandas()"
   ]
  },
  {
   "cell_type": "code",
   "execution_count": 33,
   "id": "46a3f1bd-f401-44c5-a5fd-b2dad1915881",
   "metadata": {},
   "outputs": [],
   "source": [
    "# Your exploration starts here..."
   ]
  },
  {
   "cell_type": "markdown",
   "id": "869ecb36-b467-4b65-b759-74d6ae6259ac",
   "metadata": {},
   "source": [
    "## Task 2. Text preprocessing pipeline\n",
    "**Goal:** implement a text processing pipeline that can serve as input to the spam detection rules.\n",
    "\n",
    "Try and compare the effect of several common preprocessing steps (apply them incrementally and record the effect on task 4):\n",
    "\n",
    "1. **Encoding / Unicode normalization** (e.g. NFKC/NFC)  \n",
    "2. **Case folding** (use `.casefold()` rather than `.lower()` for Unicode-safe caseless matching)  \n",
    "3. **Lemmatization:** stemming / lemmatization — choose one and justify the choice for this rule-based setup\n",
    "\n",
    "Use the `ntlk` library as the main reference, so that we internalize the implementation of the pipeline and its steps.\n",
    "\n",
    "**Deliverable:** a single function `text_processing(text)` and a short note (1–2 sentences) describing which steps you enabled and why. "
   ]
  },
  {
   "cell_type": "code",
   "execution_count": null,
   "id": "394a05c2-d17d-474d-85a0-a767d5baa2ff",
   "metadata": {},
   "outputs": [
    {
     "data": {
      "text/plain": [
       "[{'sentence_raw': 'You have won a prize!',\n",
       "  'sentence_clean': 'You have won a prize!',\n",
       "  'tokens': [{'text': 'You',\n",
       "    'lemma': '',\n",
       "    'stem': '',\n",
       "    'casefold': '',\n",
       "    'is_alpha': True,\n",
       "    'is_digit': False,\n",
       "    'is_allcaps': False},\n",
       "   {'text': 'have',\n",
       "    'lemma': '',\n",
       "    'stem': '',\n",
       "    'casefold': '',\n",
       "    'is_alpha': True,\n",
       "    'is_digit': False,\n",
       "    'is_allcaps': False},\n",
       "   {'text': 'won',\n",
       "    'lemma': '',\n",
       "    'stem': '',\n",
       "    'casefold': '',\n",
       "    'is_alpha': True,\n",
       "    'is_digit': False,\n",
       "    'is_allcaps': False},\n",
       "   {'text': 'a',\n",
       "    'lemma': '',\n",
       "    'stem': '',\n",
       "    'casefold': '',\n",
       "    'is_alpha': True,\n",
       "    'is_digit': False,\n",
       "    'is_allcaps': False},\n",
       "   {'text': 'prize',\n",
       "    'lemma': '',\n",
       "    'stem': '',\n",
       "    'casefold': '',\n",
       "    'is_alpha': True,\n",
       "    'is_digit': False,\n",
       "    'is_allcaps': False}]},\n",
       " {'sentence_raw': 'Claim your gift now.',\n",
       "  'sentence_clean': 'Claim your gift now.',\n",
       "  'tokens': [{'text': 'Claim',\n",
       "    'lemma': '',\n",
       "    'stem': '',\n",
       "    'casefold': '',\n",
       "    'is_alpha': True,\n",
       "    'is_digit': False,\n",
       "    'is_allcaps': False},\n",
       "   {'text': 'your',\n",
       "    'lemma': '',\n",
       "    'stem': '',\n",
       "    'casefold': '',\n",
       "    'is_alpha': True,\n",
       "    'is_digit': False,\n",
       "    'is_allcaps': False},\n",
       "   {'text': 'gift',\n",
       "    'lemma': '',\n",
       "    'stem': '',\n",
       "    'casefold': '',\n",
       "    'is_alpha': True,\n",
       "    'is_digit': False,\n",
       "    'is_allcaps': False},\n",
       "   {'text': 'now',\n",
       "    'lemma': '',\n",
       "    'stem': '',\n",
       "    'casefold': '',\n",
       "    'is_alpha': True,\n",
       "    'is_digit': False,\n",
       "    'is_allcaps': False}]}]"
      ]
     },
     "execution_count": 68,
     "metadata": {},
     "output_type": "execute_result"
    }
   ],
   "source": [
    "import unicodedata\n",
    "import nltk\n",
    "from nltk.corpus import wordnet\n",
    "from nltk.tokenize import sent_tokenize, word_tokenize\n",
    "from nltk.stem import WordNetLemmatizer, SnowballStemmer\n",
    "from nltk import pos_tag\n",
    "import re\n",
    "\n",
    "stemmer = SnowballStemmer(\"english\")\n",
    "wnl = WordNetLemmatizer()\n",
    "\n",
    "def treebank_to_wordnet_pos(treebank_tag: str):\n",
    "    if treebank_tag.startswith('J'):\n",
    "        return wordnet.ADJ\n",
    "    elif treebank_tag.startswith('V'):\n",
    "        return wordnet.VERB\n",
    "    elif treebank_tag.startswith('N'):\n",
    "        return wordnet.NOUN\n",
    "    elif treebank_tag.startswith('R'):\n",
    "        return wordnet.ADV\n",
    "    else:\n",
    "        return wordnet.NOUN\n",
    "\n",
    "def normalize_encoding(text: str) -> str:\n",
    "    # some relevant enconding operations..\n",
    "    return unicodedata.normalize('NFKC', text)\n",
    "    \n",
    "# Let's use nltk \n",
    "def text_processing(text) :\n",
    "   \n",
    "    # 1) sentence segmentation on original text (we keep original for display)\n",
    "    sentences = sent_tokenize(text, language='english')  \n",
    "\n",
    "    out = []\n",
    "    \n",
    "    for sent in sentences:\n",
    "        sent_clean  = normalize_encoding(sent)\n",
    "\n",
    "        # 2) tokenize (on the cleaned sentence but preserve original token text for some checks)\n",
    "        tokens = re.findall(r\"\\b\\w[\\w'\\-]*\\b\", sent_clean) # to be replaced by nltk's tokenizer\n",
    "\n",
    "        # 3) POS tagging (POS taggers expect cased text; we used cleaned but not casefolded text)\n",
    "        tagged = pos_tag(tokens)            \n",
    "        \n",
    "        # 4) lemmatization/stemming per token (use POS for better lemmas)\n",
    "        token_dicts = []\n",
    "        for tok, tb_pos in tagged:\n",
    "            wn_pos = treebank_to_wordnet_pos(tb_pos)\n",
    "            lemma = wnl.lemmatize(tok, pos=wn_pos)\n",
    "            token_info = {\n",
    "                'text' : tok,\n",
    "                'lemma' : \"\",\n",
    "                'stem' : \"\",\n",
    "                'casefold' : \"\",\n",
    "                'is_alpha': tok.isalpha(),\n",
    "                'is_digit': tok.isdigit(),\n",
    "                'is_allcaps': tok.isupper(),                \n",
    "            }\n",
    "            token_dicts.append(token_info)\n",
    "            \n",
    "        out.append({\n",
    "            'sentence_raw' : sent,\n",
    "            'sentence_clean' : sent_clean,\n",
    "            'tokens': token_dicts\n",
    "        })\n",
    "    return out\n",
    "    \n",
    "text_processing(\"You have won a prize! Claim your gift now.\")   "
   ]
  },
  {
   "cell_type": "markdown",
   "id": "8f4e299c",
   "metadata": {},
   "source": [
    "## Task 3. Rule-based spam filter\n",
    "**Goal:** implement `predict_spam_rule(text) -> 1|0` using concise, interpretable rules.\n",
    "\n",
    "- Apply rules on the **canonicalized** text where appropriate (token/phrase rules), but you may also consult the raw text for punctuation-intensity or ALL-CAPS heuristics.\n",
    "- Keep each rule explainable — a short comment for each rule explaining the intuition is required.\n",
    "\n",
    "**Starter rule ideas**\n",
    "- keyword/phrase spotting (single tokens and short n-grams)  \n",
    "- currency / money patterns (`$1000`, `1,000.00`, `usd`)  \n",
    "- URL / domain / phone patterns  \n",
    "- punctuation intensity (many `!`) or suspicious non-alphanumeric runs  \n",
    "- simple ALL-CAPS heuristic (e.g., >50% tokens uppercase)\n",
    "\n",
    "**Extension:** add one sentence-level check (negation handling or quoted text exceptions) to reduce obvious false positives.\n",
    "\n",
    "**Deliverable:** the `predict_spam_rule` function plus a short comment block listing the rules and the rationale for each."
   ]
  },
  {
   "cell_type": "code",
   "execution_count": 76,
   "id": "e083cef2",
   "metadata": {},
   "outputs": [
    {
     "data": {
      "text/plain": [
       "(1, {'fired_rule': 'token', 'fired_detail': 'prize'})"
      ]
     },
     "execution_count": 76,
     "metadata": {},
     "output_type": "execute_result"
    }
   ],
   "source": [
    "import re\n",
    "from typing import Tuple, Dict, List\n",
    "\n",
    "CURRENCY_RE = re.compile(r'\\$\\s*\\d+|\\b\\d{1,3}(?:,\\d{3})*(?:\\.\\d{2})?\\s?(?:usd|eur|dollars)?\\b', re.I)\n",
    "TOK_SPAM_SET = {\"free\", \"win\", \"prize\"}\n",
    "\n",
    "def predict_spam_rule(text: str) -> int:\n",
    "    pred, reason = predict_spam_rule_details(text)\n",
    "    return pred\n",
    "\n",
    "def predict_spam_rule_details(text: str) -> Tuple[int, Dict]:\n",
    "    \"\"\"\n",
    "    Returns (prediction, details) where details contains:\n",
    "      - 'fired_rule': one of 'token', 'lemma', 'phrase', 'currency', 'url', 'phone',\n",
    "                      'exclam', 'allcaps', 'suspicious_punct', or None\n",
    "      - 'fired_detail': extra info (token/lemma/phrase/regex match)\n",
    "    \"\"\"\n",
    "    details = {'fired_rule': None, 'fired_detail': None}\n",
    "    \n",
    "    # get sentence-level structures\n",
    "    sentences = text_processing(text)\n",
    "\n",
    "    for sent in sentences:        \n",
    "        if CURRENCY_RE.search(sent['sentence_clean']):\n",
    "            details.update({'fired_rule':'currency', 'fired_detail': CURRENCY_RE.search(sent['sentence_clean']).group(0)})\n",
    "            return 1, details\n",
    "\n",
    "        # At the token level\n",
    "        tokens = sent['tokens']\n",
    "        for tok in tokens:\n",
    "            # check the text\n",
    "            tok_text = tok.get('casefold') or tok.get('text')\n",
    "            if tok_text in TOK_SPAM_SET:\n",
    "                details.update({'fired_rule': 'token', 'fired_detail': tok_text})\n",
    "                return 1, details\n",
    "            \n",
    "            # check the lemma\n",
    "            lemma = tok.get('lemma') \n",
    "            if lemma and lemma.casefold() in TOK_SPAM_SET:\n",
    "                details.update({'fired_rule': 'lemma', 'fired_detail': lemma})\n",
    "                return 1, details            \n",
    "    return 0, details\n",
    "\n",
    "predict_spam_rule_details(\"You have won a prize! Claim your gift now.\")"
   ]
  },
  {
   "cell_type": "markdown",
   "id": "9cd184e0-1669-4a5e-8af4-9e7c2d3560f0",
   "metadata": {},
   "source": [
    "## Task 4. Apply rules to the dataset & evaluate \n",
    "**Goal:** measure how your rules perform on real data and iterate.\n",
    "\n",
    "- Apply your rule to each example in the chosen split ('train')\n",
    "- Compute and report standard metrics: **TP, FP, FN, TN**, **precision**, **recall**, and **F1**. \n",
    "- When you change preprocessing or rules, keep a log (table) of the metric values so you can show the effect of each change (an ablation table is ideal -- effect of individual).\n",
    "\n",
    "**Deliverable:** one small results table showing baseline (no preprocessing), + preprocessing variants, and + rule changes; print the confusion counts for the final rule.\n"
   ]
  },
  {
   "cell_type": "code",
   "execution_count": 77,
   "id": "549b907a-91d5-48eb-b96b-a004cef87293",
   "metadata": {},
   "outputs": [
    {
     "data": {
      "text/plain": [
       "text\n",
       "0    4358\n",
       "1    1214\n",
       "Name: count, dtype: int64"
      ]
     },
     "execution_count": 77,
     "metadata": {},
     "output_type": "execute_result"
    }
   ],
   "source": [
    "y_pred = df[\"text\"].apply(predict_spam_rule)\n",
    "y_pred.value_counts()"
   ]
  },
  {
   "cell_type": "code",
   "execution_count": 78,
   "id": "851eb89e-b0ca-4425-bc3c-99784594d7fe",
   "metadata": {},
   "outputs": [
    {
     "name": "stdout",
     "output_type": "stream",
     "text": [
      "Accuracy: 0.8548097631012204\n",
      "              precision    recall  f1-score   support\n",
      "\n",
      "         ham       0.96      0.87      0.91      4825\n",
      "        spam       0.47      0.77      0.59       747\n",
      "\n",
      "    accuracy                           0.85      5572\n",
      "   macro avg       0.72      0.82      0.75      5572\n",
      "weighted avg       0.90      0.85      0.87      5572\n",
      "\n"
     ]
    },
    {
     "data": {
      "text/plain": [
       "<sklearn.metrics._plot.confusion_matrix.ConfusionMatrixDisplay at 0x30c3fc990>"
      ]
     },
     "execution_count": 78,
     "metadata": {},
     "output_type": "execute_result"
    },
    {
     "data": {
      "image/png": "[encoded data removed]",
      "text/plain": [
       "<Figure size 640x480 with 2 Axes>"
      ]
     },
     "metadata": {},
     "output_type": "display_data"
    }
   ],
   "source": [
    "# Ground-truth labels\n",
    "y_true = df[\"labels\"] == \"spam\"\n",
    "\n",
    "# Overall correctness\n",
    "print('Accuracy:', accuracy_score(y_true, y_pred))\n",
    "\n",
    "# Detailed metrics (precision, recall, F1) for each class.\n",
    "# `target_names` provides human-readable labels in the SAME order scikit-learn uses:\n",
    "# here 0 → 'ham', 1 → 'spam'.  If we ever swap the class order, we’d pass `labels=[1,0]`\n",
    "# and provide target_names=['spam', 'ham'] in that matching order.\n",
    "print(classification_report(y_true, y_pred,\n",
    "                            target_names=['ham', 'spam']))\n",
    "\n",
    "\n",
    "# 2×2 matrix: [[TN, FP], [FN, TP]]\n",
    "cm = confusion_matrix(y_true, y_pred)\n",
    "\n",
    "ConfusionMatrixDisplay(confusion_matrix=cm,\n",
    "                       display_labels=['ham', 'spam']).plot()\n"
   ]
  },
  {
   "cell_type": "markdown",
   "id": "128442b3-1988-44b7-b834-8bf6dbedcc8e",
   "metadata": {},
   "source": [
    "## Task 5. Error analysis & short write-up\n",
    "**Goal:** understand failure modes and propose concrete, explainable improvements.\n",
    "\n",
    "- Inspect **false negatives** (spam missed) and **false positives** (ham flagged). For each selected example write 1–2 sentences:  \n",
    "  - *Why* did the rule fail? (missing keyword, obfuscation, negation, ambiguity, etc.)  \n",
    "  - *How* would you change the rules or preprocessing to fix it (concrete change, not vague intuition)?\n",
    "- Compare evaluation **with** and **without** the preprocessing pipeline you implemented and summarize how canonicalization affected precision / recall.\n",
    "\n",
    "**Deliverable:** a short markdown cell with at least **3 examples** (FP or FN) and your proposed fix for each, plus a 2–3 sentence summary of the overall effect of preprocessing.\n"
   ]
  },
  {
   "cell_type": "code",
   "execution_count": 79,
   "id": "dddc1d84-08ad-413e-8867-e036de27ae25",
   "metadata": {},
   "outputs": [
    {
     "name": "stdout",
     "output_type": "stream",
     "text": [
      "Example false positives:\n",
      "7 As per your request 'Melle Melle (Oru Minnaminunginte Nurungu Vettam)' has been set as your callertune for all Callers. Press *9 to copy your friends Callertune gold=0 pred=1\n",
      "-> text: As per your request 'Melle Melle (Oru Minnaminunginte Nurungu Vettam)' has been set as your callertune for all Callers. Press *9 to copy your friends Callertune\n",
      "---\n",
      "17 Eh u remember how 2 spell his name... Yes i did. He v naughty make until i v wet. gold=0 pred=1\n",
      "-> text: Eh u remember how 2 spell his name... Yes i did. He v naughty make until i v wet.\n",
      "---\n",
      "21 I‘m going to try for 2 months ha ha only joking gold=0 pred=1\n",
      "-> text: I‘m going to try for 2 months ha ha only joking\n",
      "---\n",
      "23 Aft i finish my lunch then i go str down lor. Ard 3 smth lor. U finish ur lunch already? gold=0 pred=1\n",
      "-> text: Aft i finish my lunch then i go str down lor. Ard 3 smth lor. U finish ur lunch already?\n",
      "---\n",
      "31 Yeah he got in at 2 and was v apologetic. n had fallen out and she was actin like spoilt child and he got caught up in that. Till 2! But we won't go there! Not doing too badly cheers. You? gold=0 pred=1\n",
      "-> text: Yeah he got in at 2 and was v apologetic. n had fallen out and she was actin like spoilt child and he got caught up in that. Till 2! But we won't go there! Not doing too badly cheers. You?\n",
      "---\n",
      "\n",
      "Example false negatives:\n",
      "15 XXXMobileMovieClub: To use your credit, click the WAP link in the next txt message or click here>> http://wap. xxxmobilemovieclub.com?n=QJKGIGHJJGCBL gold=1 pred=0\n",
      "-> text: XXXMobileMovieClub: To use your credit, click the WAP link in the next txt message or click here>> http://wap. xxxmobilemovieclub.com?n=QJKGIGHJJGCBL\n",
      "---\n",
      "54 SMS. ac Sptv: The New Jersey Devils and the Detroit Red Wings play Ice Hockey. Correct or Incorrect? End? Reply END SPTV gold=1 pred=0\n",
      "-> text: SMS. ac Sptv: The New Jersey Devils and the Detroit Red Wings play Ice Hockey. Correct or Incorrect? End? Reply END SPTV\n",
      "---\n",
      "65 As a valued customer, I am pleased to advise you that following recent review of your Mob No. you are awarded with a £1500 Bonus Prize, call 09066364589 gold=1 pred=0\n",
      "-> text: As a valued customer, I am pleased to advise you that following recent review of your Mob No. you are awarded with a £1500 Bonus Prize, call 09066364589\n",
      "---\n",
      "68 Did you hear about the new \"Divorce Barbie\"? It comes with all of Ken's stuff! gold=1 pred=0\n",
      "-> text: Did you hear about the new \"Divorce Barbie\"? It comes with all of Ken's stuff!\n",
      "---\n",
      "139 You'll not rcv any more msgs from the chat svc. For FREE Hardcore services text GO to: 69988 If u get nothing u must Age Verify with yr network & try again gold=1 pred=0\n",
      "-> text: You'll not rcv any more msgs from the chat svc. For FREE Hardcore services text GO to: 69988 If u get nothing u must Age Verify with yr network & try again\n",
      "---\n"
     ]
    }
   ],
   "source": [
    "errors = [(i, t, g, p) for i,(t,g,p) in enumerate(zip(df['text'], y_true, y_pred)) if g != p]\n",
    "# show up to 10 examples (fp then fn)\n",
    "fps = [e for e in errors if e[2]==0 and e[3]==1]\n",
    "fns = [e for e in errors if e[2]==1 and e[3]==0]\n",
    "\n",
    "print(\"Example false positives:\")\n",
    "for i, t, g, p in fps[:5]:\n",
    "    print(i, t, \"gold=0 pred=1\")\n",
    "    print(\"-> text:\", t)\n",
    "    print(\"---\")\n",
    "\n",
    "print(\"\\nExample false negatives:\")\n",
    "for i, t, g, p in fns[:5]:\n",
    "    print(i, t, \"gold=1 pred=0\")\n",
    "    print(\"-> text:\", t)\n",
    "    print(\"---\")"
   ]
  },
  {
   "cell_type": "markdown",
   "id": "8b2f52c6",
   "metadata": {},
   "source": [
    "## General notes\n",
    "\n",
    "### Success criteria (use for self-check)\n",
    "- **Task A:** preprocessing function implemented and tested on at least two examples.  \n",
    "- **Task B:** `predict_spam_rule` implemented; rules are concise and commented.  \n",
    "- **Task C:** metrics computed and a short ablation table showing iterations.  \n",
    "- **Task D:** at least 3 error examples analyzed with concrete fixes proposed.\n",
    "\n",
    "\n",
    "**Submission:** ensure the notebook contains: (1) your `canonicalize_for_rules`, (2) `predict_spam_rule`, (3) evaluation table and confusion counts, and (4) the error-analysis markdown cell described above.\n"
   ]
  },
  {
   "cell_type": "markdown",
   "id": "6c6028a6-6fd1-43ce-bb25-41e897c05711",
   "metadata": {},
   "source": [
    "## Bonus\n",
    "Implement the same approach on the german sms texts"
   ]
  },
  {
   "cell_type": "code",
   "execution_count": null,
   "id": "8887ebd5-420a-4329-a934-45239572e324",
   "metadata": {},
   "outputs": [],
   "source": []
  }
 ],
 "metadata": {
  "kernelspec": {
   "display_name": "Python 3 (ipykernel)",
   "language": "python",
   "name": "python3"
  },
  "language_info": {
   "codemirror_mode": {
    "name": "ipython",
    "version": 3
   },
   "file_extension": ".py",
   "mimetype": "text/x-python",
   "name": "python",
   "nbconvert_exporter": "python",
   "pygments_lexer": "ipython3",
   "version": "3.11.9"
  }
 },
 "nbformat": 4,
 "nbformat_minor": 5
}
