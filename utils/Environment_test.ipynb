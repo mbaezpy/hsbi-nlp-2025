{
 "cells": [
  {
   "cell_type": "markdown",
   "id": "af312a0c-2380-4895-9d60-0c0efecfeced",
   "metadata": {},
   "source": [
    "# Environment test - NLP Course"
   ]
  },
  {
   "cell_type": "code",
   "execution_count": 1,
   "id": "899f3c33-ecce-4192-af83-c047175e40f5",
   "metadata": {},
   "outputs": [
    {
     "name": "stdout",
     "output_type": "stream",
     "text": [
      "Torch: 2.7.1+cu118\n",
      "Transformers: 4.56.2\n",
      "SpaCy model: core_web_sm\n"
     ]
    }
   ],
   "source": [
    "import torch, transformers, datasets, spacy, nltk, pandas\n",
    "print(\"Torch:\", torch.__version__)\n",
    "print(\"Transformers:\", transformers.__version__)\n",
    "print(\"SpaCy model:\", spacy.load(\"en_core_web_sm\").meta['name'])"
   ]
  },
  {
   "cell_type": "code",
   "execution_count": 2,
   "id": "4659651b-b73b-497e-a928-74421936b073",
   "metadata": {},
   "outputs": [
    {
     "name": "stdout",
     "output_type": "stream",
     "text": [
      "True\n",
      "NVIDIA A100-SXM4-80GB MIG 1g.10gb\n"
     ]
    }
   ],
   "source": [
    "print(torch.cuda.is_available())\n",
    "print(torch.cuda.get_device_name(0))"
   ]
  }
 ],
 "metadata": {
  "kernelspec": {
   "display_name": "NLP Course",
   "language": "python",
   "name": "nlp-course"
  },
  "language_info": {
   "codemirror_mode": {
    "name": "ipython",
    "version": 3
   },
   "file_extension": ".py",
   "mimetype": "text/x-python",
   "name": "python",
   "nbconvert_exporter": "python",
   "pygments_lexer": "ipython3",
   "version": "3.10.18"
  }
 },
 "nbformat": 4,
 "nbformat_minor": 5
}
